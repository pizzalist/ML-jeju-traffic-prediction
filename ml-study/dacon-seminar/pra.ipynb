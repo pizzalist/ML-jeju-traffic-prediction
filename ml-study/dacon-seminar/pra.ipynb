{
 "cells": [
  {
   "cell_type": "code",
   "execution_count": 44,
   "metadata": {},
   "outputs": [],
   "source": [
    "import pandas as pd\n",
    "import numpy as np\n",
    "from sklearn.preprocessing import LabelEncoder\n",
    "import gc\n",
    "\n",
    "import matplotlib.pyplot as plt\n",
    "import seaborn as sns\n",
    "\n",
    "import requests\n",
    "import xmltodict\n",
    "import json\n",
    "\n",
    "from datetime import datetime\n",
    "import time\n",
    "import warnings\n",
    "warnings.simplefilter(action='ignore', category=FutureWarning) # FutureWarning 제거\n",
    "warnings.filterwarnings(action='ignore')"
   ]
  },
  {
   "cell_type": "code",
   "execution_count": 20,
   "metadata": {},
   "outputs": [],
   "source": [
    "train = pd.read_parquet('./data/train.parquet')\n",
    "test = pd.read_parquet('./data/test.parquet')"
   ]
  },
  {
   "cell_type": "code",
   "execution_count": 21,
   "metadata": {},
   "outputs": [],
   "source": [
    "from sklearn.preprocessing import LabelEncoder\n",
    "\n",
    "items =  ['day_of_week', 'road_name', 'start_node_name', 'start_turn_restricted', 'end_node_name', 'end_turn_restricted']\n",
    "train_label = train.copy()\n",
    "encoder = LabelEncoder()\n",
    "\n",
    "for i in items:\n",
    "    encoder = LabelEncoder()\n",
    "    encoder.fit(train_label[i])\n",
    "    train_label[i] = encoder.transform(train_label[i])\n",
    "\n",
    "items =  ['day_of_week', 'road_name', 'start_node_name', 'start_turn_restricted', 'end_node_name', 'end_turn_restricted']\n",
    "test_label = test.copy()\n",
    "encoder = LabelEncoder()\n",
    "\n",
    "for i in items:\n",
    "    encoder = LabelEncoder()\n",
    "    encoder.fit(test_label[i])\n",
    "    test_label[i] = encoder.transform(test_label[i])"
   ]
  },
  {
   "cell_type": "code",
   "execution_count": 22,
   "metadata": {},
   "outputs": [
    {
     "name": "stdout",
     "output_type": "stream",
     "text": [
      "(4701217, 16)\n",
      "(4701217,)\n",
      "(291241, 22)\n"
     ]
    }
   ],
   "source": [
    "y_train = train_label['target'] \n",
    "X_train = train_label.drop(['id','base_date', 'target','road_name', 'start_node_name', 'end_node_name','vehicle_restricted'], axis=1)\n",
    "\n",
    "X_test = test_label.drop(['id','base_date', 'road_name', 'start_node_name', 'end_node_name','vehicle_restricted'], axis=1)\n",
    "\n",
    "\n",
    "\n",
    "print(X_train.shape)\n",
    "print(y_train.shape)\n",
    "print(test.shape)"
   ]
  },
  {
   "cell_type": "code",
   "execution_count": 23,
   "metadata": {},
   "outputs": [
    {
     "name": "stdout",
     "output_type": "stream",
     "text": [
      "(3760973, 16) (3760973,)\n",
      "(940244, 16) (940244,)\n"
     ]
    }
   ],
   "source": [
    "from sklearn.model_selection import train_test_split\n",
    "X_tr, X_val, y_tr, y_val = train_test_split(X_train, y_train, test_size=0.2, \n",
    "                                            stratify=train['base_hour'], random_state=2021)\n",
    "\n",
    "print(X_tr.shape, y_tr.shape)\n",
    "print(X_val.shape, y_val.shape)"
   ]
  },
  {
   "cell_type": "code",
   "execution_count": 48,
   "metadata": {},
   "outputs": [
    {
     "name": "stdout",
     "output_type": "stream",
     "text": [
      "[10]\tvalid_0's l2: 103.58\n",
      "[20]\tvalid_0's l2: 72.5546\n",
      "[30]\tvalid_0's l2: 61.4745\n",
      "[40]\tvalid_0's l2: 55.2651\n",
      "[50]\tvalid_0's l2: 50.9295\n",
      "[60]\tvalid_0's l2: 47.5758\n",
      "[70]\tvalid_0's l2: 45.269\n",
      "[80]\tvalid_0's l2: 43.4726\n",
      "[90]\tvalid_0's l2: 41.7517\n",
      "[100]\tvalid_0's l2: 40.3264\n",
      "Best number of boosting rounds: 100\n",
      "Fit time :  15.045395851135254\n",
      "tr mae: 4.818480947327323\n",
      "val mae: 4.8187726032646445\n",
      "tr r2_score: 0.8416475517055051\n",
      "val r2_score: 0.8415657716291963\n"
     ]
    }
   ],
   "source": [
    "import lightgbm as lgb\n",
    "\n",
    "start_time = time.time()\n",
    "LR = lgb.LGBMRegressor(random_state=42).fit(X_tr, y_tr,eval_set=[(X_val, y_val)],early_stopping_rounds=10,verbose=10)\n",
    "\n",
    "from sklearn.metrics import mean_absolute_error\n",
    "from sklearn.metrics import r2_score\n",
    "\n",
    "\n",
    "# 최적의 에포크 수 확인\n",
    "best_num_boost_round = model.best_iteration_\n",
    "print(\"Best number of boosting rounds:\", best_num_boost_round)\n",
    "print('Fit time : ', time.time() - start_time)\n",
    "print(f\"tr mae: {mean_absolute_error(y_tr, LR.predict(X_tr))}\")\n",
    "print(f\"val mae: {mean_absolute_error(y_val, LR.predict(X_val))}\")\n",
    "print(f\"tr r2_score: {r2_score(y_tr, LR.predict(X_tr))}\")\n",
    "print(f\"val r2_score: {r2_score(y_val, LR.predict(X_val))}\")\n"
   ]
  },
  {
   "cell_type": "code",
   "execution_count": 50,
   "metadata": {},
   "outputs": [
    {
     "name": "stdout",
     "output_type": "stream",
     "text": [
      "[0]\tvalidation_0-mae:29.62566\tvalidation_1-mae:29.64953\n",
      "[10]\tvalidation_0-mae:6.00264\tvalidation_1-mae:6.01059\n",
      "[20]\tvalidation_0-mae:5.27232\tvalidation_1-mae:5.27581\n",
      "[30]\tvalidation_0-mae:4.92495\tvalidation_1-mae:4.92762\n",
      "[40]\tvalidation_0-mae:4.62182\tvalidation_1-mae:4.62485\n",
      "[50]\tvalidation_0-mae:4.46090\tvalidation_1-mae:4.46399\n",
      "[60]\tvalidation_0-mae:4.33460\tvalidation_1-mae:4.33837\n",
      "[70]\tvalidation_0-mae:4.20749\tvalidation_1-mae:4.21051\n",
      "[80]\tvalidation_0-mae:4.11611\tvalidation_1-mae:4.11997\n",
      "[90]\tvalidation_0-mae:4.03069\tvalidation_1-mae:4.03463\n",
      "[99]\tvalidation_0-mae:3.98000\tvalidation_1-mae:3.98380\n",
      "Best number of boosting rounds: 99\n",
      "Best number of boosting rounds: 99\n",
      "Fit time :  285.5918638706207\n",
      "tr mae: 4.818480947327323\n",
      "val mae: 4.8187726032646445\n",
      "tr r2_score: 0.8416475517055051\n",
      "val r2_score: 0.8415657716291963\n"
     ]
    }
   ],
   "source": [
    "import xgboost as xgb\n",
    "from sklearn.metrics import mean_absolute_error\n",
    "\n",
    "xgb_model = xgb.XGBRegressor(random_state=42)\n",
    "\n",
    "# 조기 종료를 위한 검증 세트 설정\n",
    "eval_set = [(X_tr, y_tr), (X_val, y_val)]\n",
    "\n",
    "# 조기 종료 및 학습\n",
    "xgb_model.fit(X_tr, y_tr,\n",
    "              eval_set=eval_set,\n",
    "              eval_metric='mae',\n",
    "              early_stopping_rounds=10,\n",
    "              verbose=10)\n",
    "\n",
    "# 최적의 에포크 수 확인\n",
    "best_num_boost_round = xgb_model.best_iteration\n",
    "print(\"Best number of boosting rounds:\", best_num_boost_round)\n",
    "\n",
    "# 평가\n",
    "from sklearn.metrics import mean_absolute_error\n",
    "from sklearn.metrics import r2_score\n",
    "\n",
    "print(\"Best number of boosting rounds:\", best_num_boost_round)\n",
    "print('Fit time : ', time.time() - start_time)\n",
    "print(f\"tr mae: {mean_absolute_error(y_tr, LR.predict(X_tr))}\")\n",
    "print(f\"val mae: {mean_absolute_error(y_val, LR.predict(X_val))}\")\n",
    "print(f\"tr r2_score: {r2_score(y_tr, LR.predict(X_tr))}\")\n",
    "print(f\"val r2_score: {r2_score(y_val, LR.predict(X_val))}\")"
   ]
  }
 ],
 "metadata": {
  "kernelspec": {
   "display_name": "Python 3.11.3 ('seminar')",
   "language": "python",
   "name": "python3"
  },
  "language_info": {
   "codemirror_mode": {
    "name": "ipython",
    "version": 3
   },
   "file_extension": ".py",
   "mimetype": "text/x-python",
   "name": "python",
   "nbconvert_exporter": "python",
   "pygments_lexer": "ipython3",
   "version": "3.11.3"
  },
  "orig_nbformat": 4,
  "vscode": {
   "interpreter": {
    "hash": "4e199f158be38318a96f5c97bc7698436a0230787fc09064e8bff4e3316d7b79"
   }
  }
 },
 "nbformat": 4,
 "nbformat_minor": 2
}
