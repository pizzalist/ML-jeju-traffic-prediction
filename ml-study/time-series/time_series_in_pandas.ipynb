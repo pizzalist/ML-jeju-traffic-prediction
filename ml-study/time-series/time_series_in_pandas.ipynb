{
 "cells": [
  {
   "cell_type": "markdown",
   "metadata": {},
   "source": [
    "## Time series in Pandas\n",
    "- 시간에 특화된 Groupby 기능이 필요함\n",
    "  - 에: 데이터중 주말 통계만 필요함\n",
    "- Time lag 또는 MovingAverage는 계산\n"
   ]
  },
  {
   "cell_type": "markdown",
   "metadata": {},
   "source": [
    "### Datetime module in Python"
   ]
  },
  {
   "cell_type": "code",
   "execution_count": 5,
   "metadata": {},
   "outputs": [
    {
     "name": "stdout",
     "output_type": "stream",
     "text": [
      "<class 'datetime.date'>\n",
      "2023-04-03\n"
     ]
    }
   ],
   "source": [
    "from datetime import datetime\n",
    "date_str = '04-03-2023'\n",
    "\n",
    "date_object = datetime.strptime(date_str, '%m-%d-%Y').date()\n",
    "print(type(date_object))\n",
    "print(date_object)\n"
   ]
  },
  {
   "cell_type": "code",
   "execution_count": 6,
   "metadata": {},
   "outputs": [
    {
     "data": {
      "text/plain": [
       "3"
      ]
     },
     "execution_count": 6,
     "metadata": {},
     "output_type": "execute_result"
    }
   ],
   "source": [
    "date_object.day"
   ]
  },
  {
   "cell_type": "code",
   "execution_count": 8,
   "metadata": {},
   "outputs": [
    {
     "data": {
      "text/plain": [
       "4"
      ]
     },
     "execution_count": 8,
     "metadata": {},
     "output_type": "execute_result"
    }
   ],
   "source": [
    "date_object.month"
   ]
  },
  {
   "cell_type": "code",
   "execution_count": 13,
   "metadata": {},
   "outputs": [
    {
     "name": "stdout",
     "output_type": "stream",
     "text": [
      "<class 'datetime.date'>\n",
      "2023-04-03\n"
     ]
    }
   ],
   "source": [
    "date_str = '2023/04/03'\n",
    "\n",
    "date_object = datetime.strptime(date_str, '%Y/%m/%d').date()\n",
    "print(type(date_object))\n",
    "print(date_object)"
   ]
  },
  {
   "cell_type": "code",
   "execution_count": 14,
   "metadata": {},
   "outputs": [
    {
     "name": "stdout",
     "output_type": "stream",
     "text": [
      "<class 'datetime.date'>\n",
      "2023-04-03\n"
     ]
    }
   ],
   "source": [
    "date_str = '2023/04/03 13:55:26'\n",
    "\n",
    "date_object = datetime.strptime(date_str, '%Y/%m/%d %H:%M:%S').date()\n",
    "print(type(date_object))\n",
    "print(date_object)"
   ]
  }
 ],
 "metadata": {
  "kernelspec": {
   "display_name": "Python 3.8.16 ('test')",
   "language": "python",
   "name": "python3"
  },
  "language_info": {
   "codemirror_mode": {
    "name": "ipython",
    "version": 3
   },
   "file_extension": ".py",
   "mimetype": "text/x-python",
   "name": "python",
   "nbconvert_exporter": "python",
   "pygments_lexer": "ipython3",
   "version": "3.8.16"
  },
  "orig_nbformat": 4,
  "vscode": {
   "interpreter": {
    "hash": "7582e6fe6d7d4690ca1cc64e6b95ec225783e0b3301cef02d1d9ddc2d9ff5692"
   }
  }
 },
 "nbformat": 4,
 "nbformat_minor": 2
}
