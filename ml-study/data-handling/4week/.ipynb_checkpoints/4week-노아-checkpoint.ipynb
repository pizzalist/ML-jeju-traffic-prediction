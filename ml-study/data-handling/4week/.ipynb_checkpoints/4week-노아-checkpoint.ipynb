{
 "cells": [
  {
   "cell_type": "code",
   "execution_count": 1,
   "metadata": {},
   "outputs": [],
   "source": [
    "import pandas as pd\n",
    "import numpy as np\n",
    "import pymysql"
   ]
  },
  {
   "cell_type": "code",
   "execution_count": 2,
   "metadata": {},
   "outputs": [
    {
     "name": "stdout",
     "output_type": "stream",
     "text": [
      "123.95 MiB\n"
     ]
    }
   ],
   "source": [
    "from memory_profiler import memory_usage\n",
    "print(f\"{memory_usage()[0]:.2f} MiB\")"
   ]
  },
  {
   "cell_type": "code",
   "execution_count": 3,
   "metadata": {},
   "outputs": [],
   "source": [
    "conn = pymysql.connect(host = 'codeborn-bi-db.cvv1o1yrngie.ap-northeast-2.rds.amazonaws.com',\n",
    "                        port = 3306,\n",
    "                        user = 'butterfree',\n",
    "                        password = '4hHl68aS8UbJ',\n",
    "                        db = 'codeborn')"
   ]
  },
  {
   "cell_type": "code",
   "execution_count": 4,
   "metadata": {},
   "outputs": [],
   "source": [
    "sql_courses = \"SELECT * FROM courses\"\n",
    "courses_data = pd.read_sql_query(sql_courses, conn)\n",
    "\n",
    "sql_assignments = \"SELECT * FROM assignments\"\n",
    "assignments_data = pd.read_sql_query(sql_assignments, conn)\n",
    "\n",
    "sql_submissions = \"SELECT * FROM submissions\"\n",
    "submissions_data = pd.read_sql_query(sql_submissions, conn)\n",
    "\n",
    "sql_students = \"SELECT * FROM students\"\n",
    "students_data = pd.read_sql_query(sql_students, conn)"
   ]
  },
  {
   "cell_type": "code",
   "execution_count": 5,
   "metadata": {},
   "outputs": [
    {
     "name": "stdout",
     "output_type": "stream",
     "text": [
      "394.27 MiB\n"
     ]
    }
   ],
   "source": [
    "print(f\"{memory_usage()[0]:.2f} MiB\")"
   ]
  },
  {
   "cell_type": "code",
   "execution_count": 6,
   "metadata": {},
   "outputs": [
    {
     "data": {
      "text/plain": [
       "232445054"
      ]
     },
     "execution_count": 6,
     "metadata": {},
     "output_type": "execute_result"
    }
   ],
   "source": [
    "import sys\n",
    "sys.getsizeof(submissions_data) "
   ]
  },
  {
   "cell_type": "code",
   "execution_count": 7,
   "metadata": {},
   "outputs": [],
   "source": [
    "def byte_transform(bytes_, to, bsize=1024):\n",
    "    a = {'k' : 1, 'm': 2, 'g' : 3, 't' : 4, 'p' : 5, 'e' : 6 }\n",
    "    r = float(bytes_)\n",
    "    for i in range(a[to]):\n",
    "        r = r / bsize\n",
    "    return round(r,2)"
   ]
  },
  {
   "cell_type": "code",
   "execution_count": 8,
   "metadata": {},
   "outputs": [
    {
     "data": {
      "text/plain": [
       "221.68"
      ]
     },
     "execution_count": 8,
     "metadata": {},
     "output_type": "execute_result"
    }
   ],
   "source": [
    "byte_transform(sys.getsizeof(submissions_data), \"m\")"
   ]
  },
  {
   "cell_type": "code",
   "execution_count": 9,
   "metadata": {},
   "outputs": [
    {
     "data": {
      "text/plain": [
       "0.01"
      ]
     },
     "execution_count": 9,
     "metadata": {},
     "output_type": "execute_result"
    }
   ],
   "source": [
    "byte_transform(sys.getsizeof(assignments_data), \"m\")"
   ]
  },
  {
   "cell_type": "code",
   "execution_count": 10,
   "metadata": {},
   "outputs": [],
   "source": [
    "# 1번 각 코스별로 제출 학생의 숫자와 숙제 평균 맞는 개수를 출력하시오\n",
    "courses_id = pd.DataFrame(courses_data,columns=[\"course_id\"])\n",
    "courses_id = courses_id[(courses_id.course_id != 123456) & (courses_id.course_id != 1235324)]"
   ]
  },
  {
   "cell_type": "code",
   "execution_count": 11,
   "metadata": {},
   "outputs": [],
   "source": [
    "col_names = [\"course_id\",  \"assignment_id\", \"started_date\", \"ended_date\"]\n",
    "assignment_id = assignments_data[col_names]\n",
    "\n",
    "assignment_id = assignment_id[assignment_id[\"assignment_id\"] != 1]"
   ]
  },
  {
   "cell_type": "code",
   "execution_count": 12,
   "metadata": {},
   "outputs": [],
   "source": [
    "submission_id = submissions_data[[\"submission_id\", \"assignment_id\", \"student_id\"]]\n",
    "submission_id = submission_id[submission_id.student_id != 11]"
   ]
  },
  {
   "cell_type": "code",
   "execution_count": null,
   "metadata": {},
   "outputs": [],
   "source": [
    "# 2번 각 코스별, 숙제별로 숙제를 가장 빨리 제출한 학생의 아이디와 제출한 시간을 출력하시오\n",
    "submission_df = pd.DataFrame(submissions_data, columns=[\"submission_id\", \"assignment_id\", \"student_id\", \"submit_date\"])\n",
    "submission_df = submission_df[(submission_df.assignment_id != 1) & (submission_df.student_id != 11)]"
   ]
  },
  {
   "cell_type": "code",
   "execution_count": null,
   "metadata": {},
   "outputs": [],
   "source": [
    "submitdate_df = pd.merge(courses_assignment, submission_df, on='assignment_id', how= 'left') \n",
    "submitdate_df = submitdate_df[submitdate_df.started_date <= submitdate_df.submit_date]\n",
    "submitdate_df = submitdate_df[submitdate_df.ended_date >= submitdate_df.submit_date]"
   ]
  },
  {
   "cell_type": "code",
   "execution_count": null,
   "metadata": {},
   "outputs": [],
   "source": []
  },
  {
   "cell_type": "code",
   "execution_count": null,
   "metadata": {},
   "outputs": [],
   "source": [
    "min_submit_date = submitdate_df.groupby(['course_id','assignment_id'])['submit_date'].min()\n",
    "student_id_with_min_submit_date = submitdate_df.loc[submitdate_df.groupby(['course_id','assignment_id'])['submit_date'].idxmin()]['student_id'].reset_index()\n",
    "result = pd.concat([min_submit_date.reset_index(), student_id_with_min_submit_date], axis=1)\n",
    "result"
   ]
  },
  {
   "cell_type": "code",
   "execution_count": null,
   "metadata": {},
   "outputs": [],
   "source": [
    "courses_assignment= pd.merge(courses_id, assignment_id, on='course_id', how='left')\n",
    "\n",
    "join_data = pd.merge(courses_assignment, submission_id, on='assignment_id', how= 'left') \n",
    "join_data_count =  join_data.groupby('course_id').agg({'assignment_id': 'nunique',\n",
    "                                    'submission_id': 'count'\n",
    "})\n",
    "join_data_count\n",
    "\n",
    "import matplotlib.pyplot as plt\n",
    "import seaborn as sns\n",
    "\n",
    "join_data_count = join_data_count.reset_index()\n",
    "join_data_count\n",
    "fig, ax = plt.subplots(nrows=2, figsize=(15,5))\n",
    "sns.barplot(x = \"course_id\", y = \"submission_id\", data = join_data_count, ax = ax[0])\n",
    "sns.barplot(x = \"course_id\", y = \"assignment_id\", data = join_data_count, ax = ax[1])\n",
    "plt.show()\n",
    "\n",
    "# 2번 각 코스별, 숙제별로 숙제를 가장 빨리 제출한 학생의 아이디와 제출한 시간을 출력하시오\n",
    "submission_df= pd.DataFrame(submissions_data, columns= [\"submission_id\", \"assignment_id\", \"student_id\", \"submit_date\"])\n",
    "submission_df = submission_df[submission_df.assignment_id != 1]\n",
    "submission_df = submission_df[submission_df.student_id != 11]\n",
    "\n",
    "submitdate_df = pd.merge(courses_assignment, submission_df, on='assignment_id', how= 'left') \n",
    "submitdate_df = submitdate_df[submitdate_df.started_date <= submitdate_df.submit_date]\n",
    "submitdate_df = submitdate_df[submitdate_df.ended_date >= submitdate_df.submit_date]\n",
    "\n",
    "\n",
    "min_submit_date = submitdate_df.groupby(['course_id','assignment_id'])['submit_date'].min()\n",
    "student_id_with_min_submit_date = submitdate_df.loc[submitdate_df.groupby(['course_id','assignment_id'])['submit_date'].idxmin()]['student_id'].reset_index()\n",
    "result = pd.concat([min_submit_date.reset_index(), student_id_with_min_submit_date], axis=1)\n",
    "result"
   ]
  },
  {
   "cell_type": "code",
   "execution_count": null,
   "metadata": {},
   "outputs": [],
   "source": [
    "# 3번 각 코스별, 숙제별로 학생들이 숙제를 제출한 횟수를 출력하시오\n",
    "submission_id_df = pd.merge(courses_assignment, submission_df, on='assignment_id', how= 'left') \n",
    "submission_id_df = submission_id_df[submission_id_df.started_date <= submission_id_df.submit_date]\n",
    "submission_id_df = submission_id_df[submission_id_df.ended_date >= submission_id_df.submit_date]\n",
    "\n",
    "submit_count_df = submission_id_df.groupby(['course_id','assignment_id']).agg({\n",
    "                            'submission_id': 'count'\n",
    "                        })\n",
    "submit_count_df"
   ]
  },
  {
   "cell_type": "code",
   "execution_count": null,
   "metadata": {},
   "outputs": [],
   "source": [
    "import matplotlib.pyplot as plt\n",
    "import seaborn as sns\n",
    "submit_count_df = submit_count_df.reset_index()\n",
    "fig, ax = plt.subplots(nrows=3, figsize=(15,15))\n",
    "sns.barplot(x = \"assignment_id\", y = \"submission_id\", data=submit_count_df[submit_count_df['course_id'] == \"DSAA-2021\"], ax = ax[0])\n",
    "plt.ylabel('pH(0(very acidic) to 14(very basic))', fontsize=15)\n",
    "sns.barplot(x = \"assignment_id\", y = \"submission_id\", data=submit_count_df[submit_count_df['course_id'] == \"DSAA-2022\"], ax = ax[1])\n",
    "sns.barplot(x = \"assignment_id\", y = \"submission_id\", data=submit_count_df[submit_count_df['course_id'] == \"PY-2022S\"], ax = ax[2])\n",
    "\n",
    "for i in range(2):\n",
    "    ax[i].set_ylabel('Number of Submissions', fontsize=15)\n",
    "plt.show()"
   ]
  },
  {
   "cell_type": "code",
   "execution_count": null,
   "metadata": {},
   "outputs": [],
   "source": [
    "#4번 각 코스별, 숙제별, 학생별로 처음 만점이 될 때까지의 제출 횟수를 출력하시오 \n",
    "#단 만점이 아닌 경우에는 출력하지 않습니다.\n",
    "submission_df= pd.DataFrame(submissions_data, columns= [\"submission_id\", \"assignment_id\", \"student_id\", \"total_score\"])\n",
    "# courses_assignment = courses_assignment.drop(['started_date','ended_date'] , axis=1)\n",
    "total_score_df = pd.merge(courses_assignment, submission_df, on = 'assignment_id', how='left')\n",
    "total_score_df = total_score_df[total_score_df.total_score == 100]\n",
    "# total_score_df 중복처리 ?\n",
    "total_score_df = total_score_df.drop([\"submission_id\"],axis=1)\n",
    "total_score_df = total_score_df.drop_duplicates()\n",
    "\n",
    "#100점 여러개인것 고려/ 중복 처리는 ?\n",
    "\n",
    "score_count = submission_df.groupby([\"assignment_id\",\"student_id\"]).agg({\n",
    "    \"total_score\": \"count\"\n",
    "})\n",
    "pd.merge(total_score_df, score_count, on= \"student_id\",how= 'right')\n",
    "\n"
   ]
  },
  {
   "cell_type": "code",
   "execution_count": null,
   "metadata": {},
   "outputs": [],
   "source": []
  }
 ],
 "metadata": {
  "kernelspec": {
   "display_name": "Python 3 (ipykernel)",
   "language": "python",
   "name": "python3"
  },
  "language_info": {
   "codemirror_mode": {
    "name": "ipython",
    "version": 3
   },
   "file_extension": ".py",
   "mimetype": "text/x-python",
   "name": "python",
   "nbconvert_exporter": "python",
   "pygments_lexer": "ipython3",
   "version": "3.8.13"
  },
  "vscode": {
   "interpreter": {
    "hash": "7582e6fe6d7d4690ca1cc64e6b95ec225783e0b3301cef02d1d9ddc2d9ff5692"
   }
  }
 },
 "nbformat": 4,
 "nbformat_minor": 2
}
