{
 "cells": [
  {
   "cell_type": "code",
   "execution_count": 6,
   "metadata": {},
   "outputs": [],
   "source": [
    "import numpy as np\n",
    "import pandas as pd\n",
    "from pandas import Series\n",
    "from pandas import DataFrame"
   ]
  },
  {
   "cell_type": "code",
   "execution_count": 133,
   "metadata": {},
   "outputs": [
    {
     "name": "stderr",
     "output_type": "stream",
     "text": [
      "/var/folders/vs/d7h80pg10h31n7bq9nk3bhxc0000gn/T/ipykernel_19359/745609532.py:3: PerformanceWarning: dropping on a non-lexsorted multi-index without a level parameter may impact performance.\n",
      "  result = answer_df.reset_index().drop(\"source\",axis=1).values\n"
     ]
    },
    {
     "data": {
      "text/plain": [
       "array([[3. , 0. , 3.5, 0. , 4.5, 0. ],\n",
       "       [0. , 3. , 3.5, 0. , 3. , 3.5],\n",
       "       [0. , 3. , 4. , 5. , 3. , 3.5],\n",
       "       [3. , 2.5, 3.5, 3.5, 3. , 2.5],\n",
       "       [2. , 3. , 4. , 3. , 3. , 0. ],\n",
       "       [0. , 0. , 4.5, 4. , 0. , 0. ]])"
      ]
     },
     "execution_count": 133,
     "metadata": {},
     "output_type": "execute_result"
    }
   ],
   "source": [
    "df = pd.read_csv(\"./movie_rating.csv\")\n",
    "answer_df = df.groupby([\"source\", \"target\"]).agg({\"rating\" : \"first\"}).unstack().fillna(0)\n",
    "result = answer_df.reset_index().drop(\"source\",axis=1).values\n",
    "result\n"
   ]
  },
  {
   "cell_type": "code",
   "execution_count": 138,
   "metadata": {},
   "outputs": [
    {
     "data": {
      "text/plain": [
       "array([[19, 17, 14, 11, 17, 25,  7, 22,  5, 18, 10, 13, 13,  8, 20, 10,\n",
       "         9, 10, 16, 15,  9, 11, 17, 15, 14,  8,  6, 12, 18, 12,  6, 18,\n",
       "         9, 24,  7, 19, 14,  6,  4, 12, 15, 14, 20,  9, 12, 16, 11,  9,\n",
       "        11, 12],\n",
       "       [20, 16, 10, 15, 17, 18, 10, 13,  5, 19,  8, 14, 14,  9, 15, 14,\n",
       "        13,  8, 12,  9,  5, 10, 28, 18,  7,  8,  6, 19, 14, 13, 11, 12,\n",
       "        18, 15,  7, 11, 17,  9,  5,  5, 13, 12, 15,  9, 13, 16, 16, 10,\n",
       "        16,  9],\n",
       "       [12, 16, 13, 19, 23, 19,  5, 14,  5, 18,  7,  6, 14,  8, 20, 17,\n",
       "        14, 11, 16, 12,  7,  9, 23, 12, 12,  8,  7, 23, 26, 10,  9, 20,\n",
       "        16, 11,  4, 19, 12, 12,  5, 10, 10, 14, 10, 17, 15, 16, 11, 17,\n",
       "         9, 11],\n",
       "       [14, 14, 19, 11, 11, 18,  7, 16,  7, 17,  6, 19, 18, 12, 13, 13,\n",
       "        14,  9, 21, 16,  6,  6, 19, 14, 19,  5, 12, 14, 18, 11, 11, 21,\n",
       "        15, 10, 11, 14, 17, 21,  6, 14,  9, 16, 18, 12, 16, 16, 26, 16,\n",
       "        12, 20],\n",
       "       [13,  7,  8, 15, 13, 16,  3, 19, 11, 12,  7, 10, 13, 14, 16, 14,\n",
       "        23,  9, 13, 10, 11,  3, 11, 14,  9,  6, 11, 16, 18, 11,  5, 14,\n",
       "        10, 16, 10,  5, 14, 11,  3,  9, 11, 10, 16,  8, 13, 20, 14, 18,\n",
       "        21,  3]])"
      ]
     },
     "execution_count": 138,
     "metadata": {},
     "output_type": "execute_result"
    }
   ],
   "source": [
    "df = pd.read_csv(\"./1000i.csv\")\n",
    "df.groupby([\"source\", \"target\"]).value_counts().unstack().values"
   ]
  },
  {
   "cell_type": "code",
   "execution_count": 107,
   "metadata": {},
   "outputs": [
    {
     "data": {
      "text/html": [
       "<div>\n",
       "<style scoped>\n",
       "    .dataframe tbody tr th:only-of-type {\n",
       "        vertical-align: middle;\n",
       "    }\n",
       "\n",
       "    .dataframe tbody tr th {\n",
       "        vertical-align: top;\n",
       "    }\n",
       "\n",
       "    .dataframe thead th {\n",
       "        text-align: right;\n",
       "    }\n",
       "</style>\n",
       "<table border=\"1\" class=\"dataframe\">\n",
       "  <thead>\n",
       "    <tr style=\"text-align: right;\">\n",
       "      <th></th>\n",
       "      <th>source</th>\n",
       "      <th>target</th>\n",
       "    </tr>\n",
       "  </thead>\n",
       "  <tbody>\n",
       "    <tr>\n",
       "      <th>0</th>\n",
       "      <td>3</td>\n",
       "      <td>7</td>\n",
       "    </tr>\n",
       "    <tr>\n",
       "      <th>1</th>\n",
       "      <td>4</td>\n",
       "      <td>15</td>\n",
       "    </tr>\n",
       "    <tr>\n",
       "      <th>2</th>\n",
       "      <td>2</td>\n",
       "      <td>49</td>\n",
       "    </tr>\n",
       "    <tr>\n",
       "      <th>3</th>\n",
       "      <td>5</td>\n",
       "      <td>44</td>\n",
       "    </tr>\n",
       "    <tr>\n",
       "      <th>4</th>\n",
       "      <td>1</td>\n",
       "      <td>1</td>\n",
       "    </tr>\n",
       "    <tr>\n",
       "      <th>...</th>\n",
       "      <td>...</td>\n",
       "      <td>...</td>\n",
       "    </tr>\n",
       "    <tr>\n",
       "      <th>3211</th>\n",
       "      <td>5</td>\n",
       "      <td>35</td>\n",
       "    </tr>\n",
       "    <tr>\n",
       "      <th>3212</th>\n",
       "      <td>2</td>\n",
       "      <td>3</td>\n",
       "    </tr>\n",
       "    <tr>\n",
       "      <th>3213</th>\n",
       "      <td>4</td>\n",
       "      <td>15</td>\n",
       "    </tr>\n",
       "    <tr>\n",
       "      <th>3214</th>\n",
       "      <td>3</td>\n",
       "      <td>47</td>\n",
       "    </tr>\n",
       "    <tr>\n",
       "      <th>3215</th>\n",
       "      <td>3</td>\n",
       "      <td>34</td>\n",
       "    </tr>\n",
       "  </tbody>\n",
       "</table>\n",
       "<p>3216 rows × 2 columns</p>\n",
       "</div>"
      ],
      "text/plain": [
       "      source  target\n",
       "0          3       7\n",
       "1          4      15\n",
       "2          2      49\n",
       "3          5      44\n",
       "4          1       1\n",
       "...      ...     ...\n",
       "3211       5      35\n",
       "3212       2       3\n",
       "3213       4      15\n",
       "3214       3      47\n",
       "3215       3      34\n",
       "\n",
       "[3216 rows x 2 columns]"
      ]
     },
     "execution_count": 107,
     "metadata": {},
     "output_type": "execute_result"
    }
   ],
   "source": [
    "df"
   ]
  },
  {
   "cell_type": "code",
   "execution_count": null,
   "metadata": {},
   "outputs": [],
   "source": []
  }
 ],
 "metadata": {
  "kernelspec": {
   "display_name": "Python 3.8.16 ('test')",
   "language": "python",
   "name": "python3"
  },
  "language_info": {
   "codemirror_mode": {
    "name": "ipython",
    "version": 3
   },
   "file_extension": ".py",
   "mimetype": "text/x-python",
   "name": "python",
   "nbconvert_exporter": "python",
   "pygments_lexer": "ipython3",
   "version": "3.8.16"
  },
  "orig_nbformat": 4,
  "vscode": {
   "interpreter": {
    "hash": "7582e6fe6d7d4690ca1cc64e6b95ec225783e0b3301cef02d1d9ddc2d9ff5692"
   }
  }
 },
 "nbformat": 4,
 "nbformat_minor": 2
}
