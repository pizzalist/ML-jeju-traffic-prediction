{
 "cells": [
  {
   "cell_type": "markdown",
   "metadata": {},
   "source": [
    "> ## ML을 하기 위해 해야 하는 것들!\n",
    "- 데이터 나누기: Train, Validation, Test\n",
    "- 데이터 전처리 \n",
    "  - 탐색적 자료 분석 (EDA)\n",
    "  - 피쳐 엔지니어링"
   ]
  },
  {
   "cell_type": "markdown",
   "metadata": {},
   "source": [
    "### why 데이터 모판\n",
    "- Train과 Test 데이터 셋의 각 컬럼에는 같은 전처리 적용\n",
    "- 데이터에 따라 Train에만 있고 Test에는 존재하지 않음\n",
    "  - 초기 데이터 전처리시 규칙을 만들어야 함\n",
    "- 데이터의 분포를 좀 더 넓게 볼 수 있음 \n",
    "실제 서비스에서는 모델 생성시 사용한 전처리를 그대로 활용"
   ]
  },
  {
   "cell_type": "markdown",
   "metadata": {},
   "source": [
    "## 데이터 처리의 전략\n",
    "- 모판은 흔들지 않는다.\n",
    "- 하나의 셀은 다시 실행해도 그 결과가 보장되야 한다.\n",
    "- 전처리가 완료후 함수화한다. (merge 함수 필수)\n",
    "- 컬럼이름은 list로 관리하기! 직접 입력 X\n",
    "- 데이터는 타입별로 분리해서 관리하기!\n",
    "- 데이터 노트 작성하기!!\n",
    "\n",
    "### 데이터 노트\n",
    "- 데이터에 대한 처리 내용 및 방향을 정리한 노트\n",
    "- 기본적인 전처리 방향과 방법들을 정리함\n",
    "- 데이터에 대한 아이디어를 정리와 지속적인 업데이트\n",
    "\n",
    "### Data Cleansing issues\n",
    "- 데이터가 빠진 경우 (결측치의 처리)\n",
    "- 라벨링된 데이터(category) 데이터의 처리\n",
    "- 데이터의 scale의 차이가 매우 크게 날 경우\n",
    "\n"
   ]
  }
 ],
 "metadata": {
  "kernelspec": {
   "display_name": "Python 3.9.6 64-bit",
   "language": "python",
   "name": "python3"
  },
  "language_info": {
   "name": "python",
   "version": "3.9.6"
  },
  "orig_nbformat": 4,
  "vscode": {
   "interpreter": {
    "hash": "31f2aee4e71d21fbe5cf8b01ff0e069b9275f58929596ceb00d14d90e3e16cd6"
   }
  }
 },
 "nbformat": 4,
 "nbformat_minor": 2
}
