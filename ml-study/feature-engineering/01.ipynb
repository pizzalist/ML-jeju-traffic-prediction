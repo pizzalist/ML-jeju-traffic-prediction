{
 "cells": [
  {
   "cell_type": "markdown",
   "metadata": {},
   "source": [
    "> ## ML을 하기 위해 해야 하는 것들!\n",
    "- 데이터 나누기: Train, Validation, Test\n",
    "- 데이터 전처리 \n",
    "  - 탐색적 자료 분석 (EDA)\n",
    "  - 피쳐 엔지니어링"
   ]
  },
  {
   "cell_type": "markdown",
   "metadata": {},
   "source": [
    "### why 데이터 모판\n",
    "- Train과 Test 데이터 셋의 각 컬럼에는 같은 전처리 적용\n",
    "- 데이터에 따라 Train에만 있고 Test에는 존재하지 않음\n",
    "  - 초기 데이터 전처리시 규칙을 만들어야 함\n",
    "- 데이터의 분포를 좀 더 넓게 볼 수 있음 \n",
    "실제 서비스에서는 모델 생성시 사용한 전처리를 그대로 활용"
   ]
  },
  {
   "cell_type": "markdown",
   "metadata": {},
   "source": []
  }
 ],
 "metadata": {
  "kernelspec": {
   "display_name": "Python 3.8.16 ('test')",
   "language": "python",
   "name": "python3"
  },
  "language_info": {
   "name": "python",
   "version": "3.8.16"
  },
  "orig_nbformat": 4,
  "vscode": {
   "interpreter": {
    "hash": "7582e6fe6d7d4690ca1cc64e6b95ec225783e0b3301cef02d1d9ddc2d9ff5692"
   }
  }
 },
 "nbformat": 4,
 "nbformat_minor": 2
}
