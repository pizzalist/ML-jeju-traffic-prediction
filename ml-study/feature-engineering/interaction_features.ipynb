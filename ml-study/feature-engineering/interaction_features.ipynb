{
 "cells": [
  {
   "cell_type": "markdown",
   "metadata": {},
   "source": [
    "> ### Interaction features\n",
    "- 기존 feature들의 조합으로 새로운 feature를 생성\n",
    "- Data에 대한 사전 지식과 이해 필요\n",
    "- Polynomial feature를 사용한 자동화 기능 \n",
    "    - 높은 비용\n",
    "- 실험적으로 접근할 요소들은 있음\n",
    "- weight + time-period, sensor1 + sensor2"
   ]
  }
 ],
 "metadata": {
  "kernelspec": {
   "display_name": "Python 3.8.16 ('test')",
   "language": "python",
   "name": "python3"
  },
  "language_info": {
   "name": "python",
   "version": "3.8.16"
  },
  "orig_nbformat": 4,
  "vscode": {
   "interpreter": {
    "hash": "7582e6fe6d7d4690ca1cc64e6b95ec225783e0b3301cef02d1d9ddc2d9ff5692"
   }
  }
 },
 "nbformat": 4,
 "nbformat_minor": 2
}
