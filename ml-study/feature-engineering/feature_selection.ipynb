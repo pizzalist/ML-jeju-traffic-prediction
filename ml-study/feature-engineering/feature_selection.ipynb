{
 "cells": [
  {
   "cell_type": "markdown",
   "metadata": {},
   "source": [
    "> ## feature selection\n",
    "- 모든 feature들이 반드시 model 학습에 필요치 않다.\n",
    "- 어떤 feature들은 성능을 오히려 나쁘게 함\n",
    "- 너무 많은 feature -> overfiting의 원인\n",
    "- 모델에 따라서 필요한 feature를 선택함\n",
    "- 필요없는 feature 제거 -> 학습 속도와 성능 향상\n",
    "\n",
    "### feature 선택의 주의 사항들\n",
    "- prediction time에도 쓸 수 있는 feature 인가?\n",
    "- 실시간 예측이 필요할 때, 생성이 너무 고비용이 아닌가?\n",
    "- scale은 일정한가? 또는 비율적으로 표현 가능한가?\n",
    "- 새롭게 등장하는 category data는? 가장 비슷한 것?\n",
    "- 너무 극단적인 분포 -> threshold 기반으로 binarization\n",
    "\n",
    "### 이런 Feature들은 삭제하자!\n",
    "- Correlation이 너무 높은 Feature는 삭제\n",
    "- 전처리가 완료된 str feature들\n",
    "- ID와 같은 성향을 가진 Feature들 \n",
    "\n",
    "\n",
    "### 데이터 정리가 끝나면 학습 하는 방법\n",
    "- 적합한 모델을 선정한다 (실험)\n",
    "- 모델에 적합한 하이퍼 파라메터를 선정한다\n",
    "- 다양한 전처리 경우의 수를 입력한다\n",
    "- 학습을 실행한다\n",
    "- 성능을 평가한다\n",
    "\n"
   ]
  }
 ],
 "metadata": {
  "kernelspec": {
   "display_name": "Python 3.8.16 ('test')",
   "language": "python",
   "name": "python3"
  },
  "language_info": {
   "name": "python",
   "version": "3.8.16"
  },
  "orig_nbformat": 4,
  "vscode": {
   "interpreter": {
    "hash": "7582e6fe6d7d4690ca1cc64e6b95ec225783e0b3301cef02d1d9ddc2d9ff5692"
   }
  }
 },
 "nbformat": 4,
 "nbformat_minor": 2
}
