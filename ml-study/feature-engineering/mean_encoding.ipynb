{
 "cells": [
  {
   "cell_type": "markdown",
   "metadata": {},
   "source": [
    "> ## Mean encoding\n",
    "- category 데이터는 항상 one-hot encoding?\n",
    "    - -> X , 다양한 인코딩 기법 있음\n",
    "- Y값에 대한 분포를 활용한 mean encoding\n",
    "- Label 인코딩은 그 자체로 정보가 존재하지 않음\n",
    "- Mean 인코딩: 분포의 값을 취할 수 있음\n",
    "- 조금 더 빨리, 조금 더 나은 성능이 나오기도 함\n",
    "- Regression Task는 단순 평균값으로 입력\n",
    "- Overfitting을 제거하기 위해 smoothing을 사용"
   ]
  },
  {
   "cell_type": "markdown",
   "metadata": {},
   "source": [
    "예제 코드는 titanic 참조"
   ]
  }
 ],
 "metadata": {
  "kernelspec": {
   "display_name": "Python 3.8.16 ('test')",
   "language": "python",
   "name": "python3"
  },
  "language_info": {
   "name": "python",
   "version": "3.8.16"
  },
  "orig_nbformat": 4,
  "vscode": {
   "interpreter": {
    "hash": "7582e6fe6d7d4690ca1cc64e6b95ec225783e0b3301cef02d1d9ddc2d9ff5692"
   }
  }
 },
 "nbformat": 4,
 "nbformat_minor": 2
}
