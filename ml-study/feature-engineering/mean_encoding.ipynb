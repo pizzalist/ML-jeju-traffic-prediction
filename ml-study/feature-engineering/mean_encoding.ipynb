{
 "cells": [
  {
   "cell_type": "markdown",
   "metadata": {},
   "source": [
    "> ## Mean encoding\n",
    "- category 데이터는 항상 one-hot encoding?\n",
    "    - -> X , 다양한 인코딩 기법 있음\n",
    "- Y값에 대한 분포를 활용한 mean encoding\n",
    "- Label 인코딩은 그 자체로 정보가 존재하지 않음\n",
    "- Mean 인코딩: 분포의 값을 취할 수 있음\n",
    "- 조금 더 빨리, 조금 더 나은 성능이 나오기도 함\n",
    "- Regression Task는 단순 평균값으로 입력\n",
    "- Overfitting을 제거하기 위해 smoothing을 사용"
   ]
  },
  {
   "cell_type": "markdown",
   "metadata": {},
   "source": [
    "예제 코드는 titanic 참조"
   ]
  }
 ],
 "metadata": {
  "kernelspec": {
   "display_name": "Python 3.10.5 64-bit",
   "language": "python",
   "name": "python3"
  },
  "language_info": {
   "name": "python",
   "version": "3.10.5"
  },
  "orig_nbformat": 4,
  "vscode": {
   "interpreter": {
    "hash": "409c8e0681c9284bc50ce6fb5bfd49c2f62d644bf39f045d0840112257281539"
   }
  }
 },
 "nbformat": 4,
 "nbformat_minor": 2
}
